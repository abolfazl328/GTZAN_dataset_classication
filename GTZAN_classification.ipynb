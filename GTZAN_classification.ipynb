{
  "nbformat": 4,
  "nbformat_minor": 0,
  "metadata": {
    "colab": {
      "provenance": [],
      "gpuType": "T4",
      "include_colab_link": true
    },
    "kernelspec": {
      "name": "python3",
      "display_name": "Python 3"
    },
    "language_info": {
      "name": "python"
    },
    "accelerator": "GPU"
  },
  "cells": [
    {
      "cell_type": "markdown",
      "metadata": {
        "id": "view-in-github",
        "colab_type": "text"
      },
      "source": [
        "<a href=\"https://colab.research.google.com/github/abolfazl328/GTZAN_dataset_classication/blob/main/GTZAN_classification.ipynb\" target=\"_parent\"><img src=\"https://colab.research.google.com/assets/colab-badge.svg\" alt=\"Open In Colab\"/></a>"
      ]
    },
    {
      "cell_type": "markdown",
      "source": [
        "This cell imports the necessary Python libraries. These libraries provide tools for audio processing, machine learning, data manipulation, and visualization, setting up the environment for the project.  Specifically:\n",
        "\n",
        "*   **`kagglehub`:** For downloading the dataset.\n",
        "*   **`os`:** For interacting with the file system.\n",
        "*   **`librosa`:** For audio analysis and feature extraction.\n",
        "*   **`numpy`:** For numerical operations and array manipulation.\n",
        "*   **`tensorflow`:** For building and training the machine learning model.\n",
        "*   **`sklearn`:** For data splitting and model evaluation.\n",
        "*   **`audiomentations`:** For augmenting the audio data.\n",
        "*   **`tensorflow.keras.callbacks`:** For model training control (early stopping, learning rate reduction).\n",
        "*   **`matplotlib` and `seaborn`:** For data visualization.\n",
        "\n",
        "These imports make the functions from these libraries available for use in the subsequent code cells."
      ],
      "metadata": {
        "id": "2AbVUgho8hbp"
      }
    },
    {
      "cell_type": "code",
      "execution_count": 4,
      "metadata": {
        "id": "DgTR-r0ys4ui"
      },
      "outputs": [],
      "source": [
        "import kagglehub\n",
        "import os\n",
        "import librosa\n",
        "import numpy as np\n",
        "import tensorflow as tf\n",
        "from sklearn.model_selection import train_test_split  # For data splitting\n",
        "import audiomentations\n",
        "from tensorflow.keras.callbacks import EarlyStopping, ReduceLROnPlateau\n",
        "from sklearn.metrics import confusion_matrix, f1_score, precision_score, recall_score\n",
        "import matplotlib.pyplot as plt\n",
        "import seaborn as sns"
      ]
    },
    {
      "cell_type": "markdown",
      "source": [
        "This cell configures TensorFlow to use available GPUs for training. It checks for GPUs and enables memory growth to prevent out-of-memory errors during the training process.  This allows TensorFlow to dynamically allocate GPU memory as needed, which is crucial for handling large datasets and complex models."
      ],
      "metadata": {
        "id": "ol5E-YIg8nDu"
      }
    },
    {
      "cell_type": "code",
      "source": [
        "gpus = tf.config.experimental.list_physical_devices('GPU')\n",
        "if gpus:\n",
        "  try:\n",
        "    for gpu in gpus:\n",
        "      tf.config.experimental.set_memory_growth(gpu, True) # Prevents memo\n",
        "      print(\"GPU is available and enabled for training.\")\n",
        "  except RuntimeError as e:\n",
        "    print(e)"
      ],
      "metadata": {
        "id": "8_6QGGmlwE_i",
        "colab": {
          "base_uri": "https://localhost:8080/"
        },
        "outputId": "21ecb207-9331-4a5a-adf9-b78ba5444873"
      },
      "execution_count": 5,
      "outputs": [
        {
          "output_type": "stream",
          "name": "stdout",
          "text": [
            "GPU is available and enabled for training.\n"
          ]
        }
      ]
    },
    {
      "cell_type": "markdown",
      "source": [
        "This cell downloads the GTZAN music genre classification dataset from Kaggle Hub. It then prints the local path to the downloaded audio files.  The path will look something like this (but will depend on your operating system and Kaggle Hub configuration):"
      ],
      "metadata": {
        "id": "CFrk3-joV2L_"
      }
    },
    {
      "cell_type": "code",
      "source": [
        "# Download latest version\n",
        "path = kagglehub.dataset_download(\"andradaolteanu/gtzan-dataset-music-genre-classification\")+\"/Data/genres_original\"\n",
        "print(\"Path to dataset files:\", path)"
      ],
      "metadata": {
        "colab": {
          "base_uri": "https://localhost:8080/"
        },
        "id": "n1f2c_9DtI_g",
        "outputId": "d6bb5b3f-aea4-44bd-b89a-ff210983e20b"
      },
      "execution_count": 6,
      "outputs": [
        {
          "output_type": "stream",
          "name": "stdout",
          "text": [
            "Warning: Looks like you're using an outdated `kagglehub` version (installed: 0.3.7), please consider upgrading to the latest version (0.3.8).\n",
            "Downloading from https://www.kaggle.com/api/v1/datasets/download/andradaolteanu/gtzan-dataset-music-genre-classification?dataset_version_number=1...\n"
          ]
        },
        {
          "output_type": "stream",
          "name": "stderr",
          "text": [
            "100%|██████████| 1.21G/1.21G [00:13<00:00, 98.3MB/s]"
          ]
        },
        {
          "output_type": "stream",
          "name": "stdout",
          "text": [
            "Extracting files...\n"
          ]
        },
        {
          "output_type": "stream",
          "name": "stderr",
          "text": [
            "\n"
          ]
        },
        {
          "output_type": "stream",
          "name": "stdout",
          "text": [
            "Path to dataset files: /root/.cache/kagglehub/datasets/andradaolteanu/gtzan-dataset-music-genre-classification/versions/1/Data/genres_original\n"
          ]
        }
      ]
    },
    {
      "cell_type": "code",
      "source": [
        "list_of_musics = os.listdir(path)\n",
        "list_of_musics"
      ],
      "metadata": {
        "id": "aD6BaRgCtJV4",
        "colab": {
          "base_uri": "https://localhost:8080/"
        },
        "outputId": "b5909109-dd0c-474b-adaa-72cd8e4ed7f1"
      },
      "execution_count": 7,
      "outputs": [
        {
          "output_type": "execute_result",
          "data": {
            "text/plain": [
              "['rock',\n",
              " 'hiphop',\n",
              " 'pop',\n",
              " 'reggae',\n",
              " 'blues',\n",
              " 'disco',\n",
              " 'country',\n",
              " 'metal',\n",
              " 'classical',\n",
              " 'jazz']"
            ]
          },
          "metadata": {},
          "execution_count": 7
        }
      ]
    },
    {
      "cell_type": "markdown",
      "source": [
        "This cell defines a function called `format_with_zeros`. This function takes a number as input and formats it as a string with leading zeros, ensuring a consistent five-digit format. For example, the number 12 would be formatted as \"00012\". This is likely used for consistent file naming or data organization."
      ],
      "metadata": {
        "id": "-A27K2fJ8sop"
      }
    },
    {
      "cell_type": "code",
      "source": [
        "def format_with_zeros(number):\n",
        "  return \"{:05d}\".format(number)"
      ],
      "metadata": {
        "id": "2dWCjiMRUOmy"
      },
      "execution_count": 8,
      "outputs": []
    },
    {
      "cell_type": "markdown",
      "source": [
        "This cell defines a function `loadaudio` to load audio files.  It uses `librosa.load` to load the audio and returns the audio data and its sample rate.  It includes error handling to catch and report issues if a file cannot be loaded.  The `sr=None` argument tells librosa not to resample the audio, preserving the original sample rate."
      ],
      "metadata": {
        "id": "6AwBbr8lWu4i"
      }
    },
    {
      "cell_type": "code",
      "source": [
        "  def loadaudio(audio_file):\n",
        "    try:\n",
        "      audio, sr = librosa.load(audio_file, sr=None) # Load with a maximum duration of 30 seconds\n",
        "      return audio, sr\n",
        "    except Exception as e:\n",
        "      print(f\"Error loading audio file {audio_file}: {e}\")\n",
        "      return None, None"
      ],
      "metadata": {
        "id": "Q_kHFK02cKaS"
      },
      "execution_count": 9,
      "outputs": []
    },
    {
      "cell_type": "markdown",
      "source": [
        "This cell creates an audio augmenter using the `audiomentations` library.  The `augmenter` is a composition of several audio transformations, including time stretching, pitch shifting, adding Gaussian noise, gain adjustment, and normalization. Each transformation has a 50% probability (`p=0.5`) of being applied to the audio. This augmenter will be used to create variations of the audio data for training."
      ],
      "metadata": {
        "id": "8t9MG24Z88Wd"
      }
    },
    {
      "cell_type": "code",
      "source": [
        "augmenter = audiomentations.Compose([\n",
        "    audiomentations.TimeStretch(min_rate=0.8, max_rate=1.2, p=0.5),\n",
        "    audiomentations.PitchShift(min_semitones=-2, max_semitones=2, p=0.5),\n",
        "    audiomentations.AddGaussianNoise(min_amplitude=0.001, max_amplitude=0.015, p=0.5),\n",
        "    audiomentations.Gain(min_gain_db=-3, max_gain_db=3, p=0.5),\n",
        "    audiomentations.Normalize(p=0.5),\n",
        "])"
      ],
      "metadata": {
        "id": "3lG9JSumprSA"
      },
      "execution_count": 10,
      "outputs": []
    },
    {
      "cell_type": "markdown",
      "source": [
        "This cell defines a function `process_audio` that applies audio augmentation.  It takes audio data (`y`) and its sample rate (`sr`) as input.  If `augment` is True, it applies the previously defined `augmenter` to the audio.  It includes error handling for augmentation failures.  It returns the processed audio and sample rate."
      ],
      "metadata": {
        "id": "U_I-7lqP9Bfz"
      }
    },
    {
      "cell_type": "code",
      "source": [
        "def process_audio(y, sr, augment=False):\n",
        "    if augment:\n",
        "        try:\n",
        "            y = augmenter(samples=y, sample_rate=sr)\n",
        "        except Exception as e:\n",
        "            print(f\"Augmentation error for {audio_file}: {e}\")\n",
        "    return y, sr"
      ],
      "metadata": {
        "id": "iILi7tfOpjNP"
      },
      "execution_count": 11,
      "outputs": []
    },
    {
      "cell_type": "markdown",
      "source": [
        "This cell loads audio files, extracts mel spectrograms, and normalizes them. It iterates through genres and audio files, augmenting each clip multiple times.  It stores both normalized and unnormalized mel spectrograms along with their corresponding genre labels.  The normalization uses mean and standard deviation calculated across the spectrogram."
      ],
      "metadata": {
        "id": "QsHu8TrQ9JLL"
      }
    },
    {
      "cell_type": "code",
      "source": [
        "normalized_x = []\n",
        "normalized_y = []\n",
        "unnormalized_x = []\n",
        "unnormalized_y = []\n",
        "n_augmentations_per_clip = 3\n",
        "count = 0\n",
        "for j in range(100):\n",
        "  k = 0\n",
        "  for i in list_of_musics:\n",
        "    audio_file = path+f\"/{i}/{i}.{format_with_zeros(j)}.wav\"\n",
        "    audio, sr = loadaudio(audio_file)\n",
        "    if audio is None:\n",
        "      continue\n",
        "    for ii in range(n_augmentations_per_clip):\n",
        "      audio_augmented, sr = process_audio(audio, sr, augment=True) # dummy process_audio call for augment\n",
        "      mel_spectrogram = librosa.feature.melspectrogram(y=audio, sr=sr, n_mels=128)  # Adjust n_mels as needed\n",
        "      log_mel_spectrogram = librosa.power_to_db(mel_spectrogram, ref=np.max) # Convert to decibels\n",
        "      unnormalized_x.append(log_mel_spectrogram)\n",
        "      unnormalized_y.append(k)\n",
        "      mean = np.mean(log_mel_spectrogram, axis=(0, 1), keepdims=True)  # Mean across time and channels\n",
        "      std = np.std(log_mel_spectrogram, axis=(0, 1), keepdims=True)\n",
        "      epsilon = 1e-7\n",
        "      normalized_spectrogram = (log_mel_spectrogram - mean) / (std + epsilon)\n",
        "      normalized_x.append(np.array(normalized_spectrogram))\n",
        "      normalized_y.append(k)\n",
        "    k+=1\n",
        "  print(count)\n",
        "  count += 10"
      ],
      "metadata": {
        "id": "3jUbj4UKNYTn"
      },
      "execution_count": null,
      "outputs": []
    },
    {
      "cell_type": "markdown",
      "source": [
        "This cell splits the data into training and testing sets. It uses `train_test_split` from scikit-learn to divide both the unnormalized and normalized mel spectrograms and their labels into 80% training and 20% testing sets.  A `random_state` is set for reproducibility."
      ],
      "metadata": {
        "id": "jlWwEj0d9WuD"
      }
    },
    {
      "cell_type": "code",
      "source": [
        "unnorm_x_train, unnorm_x_test, unnorm_y_train, unnorm_y_test = train_test_split(unnormalized_x, unnormalized_y, test_size=0.2, random_state=42) # 80% train, 20% test\n",
        "norm_x_train, norm_x_test, norm_y_train, norm_y_test = train_test_split(normalized_x, unnormalized_y, test_size=0.2, random_state=42) # 80% train, 20% test"
      ],
      "metadata": {
        "id": "PRaSTo45Nfyp"
      },
      "execution_count": 14,
      "outputs": []
    },
    {
      "cell_type": "markdown",
      "source": [
        "This cell converts the genre labels to one-hot encoded vectors.  It uses `tf.keras.utils.to_categorical` to transform the numerical labels into a format suitable for training a categorical classification model.  Each label is converted into a vector of length `num_classes` (10 in this case), where the element corresponding to the genre is 1 and all other elements are 0.  This is done for both the normalized and unnormalized training and testing labels."
      ],
      "metadata": {
        "id": "qHiw8Kzq9bCq"
      }
    },
    {
      "cell_type": "code",
      "source": [
        "num_classes = 10\n",
        "unnorm_y_train = tf.keras.utils.to_categorical(unnorm_y_train, num_classes=num_classes)\n",
        "unnorm_y_test = tf.keras.utils.to_categorical(unnorm_y_test, num_classes=num_classes)\n",
        "norm_y_train = tf.keras.utils.to_categorical(norm_y_train, num_classes=num_classes)\n",
        "norm_y_test = tf.keras.utils.to_categorical(norm_y_test, num_classes=num_classes)"
      ],
      "metadata": {
        "id": "RSSQ2y2BnDzk"
      },
      "execution_count": 15,
      "outputs": []
    },
    {
      "cell_type": "markdown",
      "source": [
        "This cell defines data generators for training and testing. These generators yield batches of data, expanding the spectrograms to include a channel dimension (required for many CNN models).  Separate generators are created for both normalized and unnormalized data, for both training and testing sets.  These generators are likely used with TensorFlow/Keras' `model.fit` or similar training functions."
      ],
      "metadata": {
        "id": "H35gfcyU9hjB"
      }
    },
    {
      "cell_type": "code",
      "source": [
        "generator_unnorm_train = lambda: ((np.expand_dims(x, axis=-1), y_) for x, y_ in zip(unnorm_x_train, unnorm_y_train))\n",
        "generator_norm_train = lambda: ((np.expand_dims(x, axis=-1), y_) for x, y_ in zip(norm_x_train, norm_y_train))\n",
        "generator_unnorm_test = lambda: ((np.expand_dims(x, axis=-1), y_) for x, y_ in zip(unnorm_x_test, unnorm_y_test))\n",
        "generator_norm_test = lambda: ((np.expand_dims(x, axis=-1), y_) for x, y_ in zip(norm_x_test, norm_y_test))"
      ],
      "metadata": {
        "id": "zXHLepbE0W-f"
      },
      "execution_count": 16,
      "outputs": []
    },
    {
      "cell_type": "markdown",
      "source": [
        "This cell creates TensorFlow `Dataset` objects from the generators defined in the previous cell. These `Dataset` objects are optimized for efficient data input into TensorFlow/Keras models.  Crucially, it uses `padded_batch` to handle the variable lengths of the audio spectrograms.  Since audio files can have different durations, the resulting mel spectrograms will have different time dimensions.  `padded_batch` pads these spectrograms with zeros to create batches where all spectrograms have the same shape.  This is essential for training neural networks, which require consistent input sizes.\n",
        "\n",
        "Specifically, the code does the following:\n",
        "\n",
        "*   **`tf.data.Dataset.from_generator(...)`:** Creates a TensorFlow Dataset from the generator functions.  The `output_signature` argument specifies the expected shape and data type of the data yielded by the generator.\n",
        "\n",
        "*   **`.padded_batch(...)`:** Creates batches of a specified `batch_size` (32 in this case).  The `padded_shapes` argument defines how the padding should be applied.  `[128, None, 1]` means that the spectrograms have a fixed frequency dimension of 128, a variable time dimension (indicated by `None`), and 1 channel.  The labels are padded to a shape of `[num_classes]`.  `padding_values` sets the value used for padding (0.0 in this case). `drop_remainder=False` ensures that even the last batch (which may be smaller than `batch_size`) is included.\n",
        "\n",
        "Separate `Dataset` objects are created for the normalized and unnormalized data, as well as for the training and testing sets, resulting in four datasets ready for use in model training and evaluation."
      ],
      "metadata": {
        "id": "h0P0Xoye9zCY"
      }
    },
    {
      "cell_type": "code",
      "source": [
        "unnorm_train_dataset = tf.data.Dataset.from_generator(\n",
        "    generator_unnorm_train,\n",
        "    output_signature=(\n",
        "        tf.TensorSpec(shape=(128, None, 1), dtype=tf.float32),\n",
        "        tf.TensorSpec(shape=(num_classes,), dtype=tf.float32),\n",
        "    ),\n",
        ").padded_batch(\n",
        "    batch_size=32,\n",
        "    padded_shapes=([128, None, 1], [num_classes]),  # Pad time dimension to None\n",
        "    padding_values=(0.0, 0.0), # Padding value for spectrograms and labels\n",
        "    drop_remainder=False # Keep last batch even if it is not full\n",
        ")\n",
        "\n",
        "norm_train_dataset = tf.data.Dataset.from_generator(\n",
        "    generator_norm_train,\n",
        "    output_signature=(\n",
        "        tf.TensorSpec(shape=(128, None, 1), dtype=tf.float32),\n",
        "        tf.TensorSpec(shape=(num_classes,), dtype=tf.float32),\n",
        "    ),\n",
        ").padded_batch(\n",
        "    batch_size=32,\n",
        "    padded_shapes=([128, None, 1], [num_classes]),  # Pad time dimension to None\n",
        "    padding_values=(0.0, 0.0), # Padding value for spectrograms and labels\n",
        "    drop_remainder=False # Keep last batch even if it is not full\n",
        ")\n",
        "\n",
        "\n",
        "unnorm_test_dataset = tf.data.Dataset.from_generator(\n",
        "    generator_unnorm_test,\n",
        "    output_signature=(\n",
        "        tf.TensorSpec(shape=(128, None, 1), dtype=tf.float32),\n",
        "        tf.TensorSpec(shape=(num_classes,), dtype=tf.float32),\n",
        "    ),\n",
        ").padded_batch(\n",
        "    batch_size=32,\n",
        "    padded_shapes=([128, None, 1], [num_classes]),  # Pad time dimension to None\n",
        "    padding_values=(0.0, 0.0), # Padding value for spectrograms and labels\n",
        "    drop_remainder=False # Keep last batch even if it is not full\n",
        ")\n",
        "\n",
        "norm_test_dataset = tf.data.Dataset.from_generator(\n",
        "    generator_norm_test,\n",
        "    output_signature=(\n",
        "        tf.TensorSpec(shape=(128, None, 1), dtype=tf.float32),\n",
        "        tf.TensorSpec(shape=(num_classes,), dtype=tf.float32),\n",
        "    ),\n",
        ").padded_batch(\n",
        "    batch_size=32,\n",
        "    padded_shapes=([128, None, 1], [num_classes]),  # Pad time dimension to None\n",
        "    padding_values=(0.0, 0.0), # Padding value for spectrograms and labels\n",
        "    drop_remainder=False # Keep last batch even if it is not full\n",
        ")"
      ],
      "metadata": {
        "id": "uuLBzqnc0Yh4"
      },
      "execution_count": 17,
      "outputs": []
    },
    {
      "cell_type": "markdown",
      "source": [
        "This cell defines and compiles a Convolutional Neural Network (CNN) model for music genre classification.  The model architecture consists of:\n",
        "\n",
        "*   **Convolutional layers (Conv2D):**  These layers extract features from the mel spectrograms.  The `kernel_regularizer` adds L2 regularization to prevent overfitting.\n",
        "*   **Batch Normalization:**  Added after each Conv2D layer to stabilize training and improve performance.\n",
        "*   **Max Pooling (MaxPooling2D):**  These layers downsample the feature maps, reducing computational load and increasing robustness to small variations in the input.\n",
        "*   **Global Average Pooling (GlobalAveragePooling2D):** This layer averages the feature maps across all spatial dimensions, resulting in a single vector. This helps reduce the number of parameters and makes the model more robust.\n",
        "*   **Dense (fully connected) layer:** The final dense layer has `num_classes` (10) units, one for each genre.  The `softmax` activation function produces a probability distribution over the genres.\n",
        "\n",
        "The model is compiled using the Adam optimizer, categorical cross-entropy loss (suitable for multi-class classification), and accuracy as the evaluation metric.  The commented-out layers provide an example of how the model could be expanded (with more convolutional and dense layers) if needed."
      ],
      "metadata": {
        "id": "skGG_yyJ93xK"
      }
    },
    {
      "cell_type": "code",
      "source": [
        "unnorm_dataset_model= tf.keras.models.Sequential([\n",
        "    tf.keras.layers.Conv2D(32, (3, 3), activation='relu', kernel_regularizer=tf.keras.regularizers.l2(0.01), input_shape=(128, None, 1)),\n",
        "    tf.keras.layers.BatchNormalization(),  # Add Batch Normalization\n",
        "    tf.keras.layers.MaxPooling2D((2, 2)),\n",
        "\n",
        "    tf.keras.layers.Conv2D(64, (3, 3), activation='relu', kernel_regularizer=tf.keras.regularizers.l2(0.01)),\n",
        "    tf.keras.layers.BatchNormalization(),  # Add Batch Normalization\n",
        "    tf.keras.layers.MaxPooling2D((2, 2)),\n",
        "\n",
        "    # tf.keras.layers.Conv2D(128, (3, 3), activation='relu', kernel_regularizer=tf.keras.regularizers.l2(0.01)),  # More Conv layers\n",
        "    # tf.keras.layers.BatchNormalization(),  # Add Batch Normalization\n",
        "    # tf.keras.layers.MaxPooling2D((2, 2)),\n",
        "\n",
        "    # tf.keras.layers.Conv2D(256, (3, 3), activation='relu', kernel_regularizer=tf.keras.regularizers.l2(0.001)),  # Even more Conv layers\n",
        "    # tf.keras.layers.BatchNormalization(),  # Add Batch Normalization\n",
        "    # tf.keras.layers.MaxPooling2D((2, 2)),\n",
        "\n",
        "    tf.keras.layers.GlobalAveragePooling2D(),\n",
        "\n",
        "    # tf.keras.layers.Dense(512, activation='relu', kernel_regularizer=tf.keras.regularizers.l2(0.01)),  # Larger Dense Layer\n",
        "    # tf.keras.layers.Dropout(0.5),  # Dropout for regularization\n",
        "\n",
        "    # tf.keras.layers.Dense(256, activation='relu', kernel_regularizer=tf.keras.regularizers.l2(0.01)),  # Another Dense Layer\n",
        "    # tf.keras.layers.Dropout(0.5),  # Dropout for regularization\n",
        "\n",
        "    tf.keras.layers.Dense(num_classes, activation='softmax')  # Output layer\n",
        "])\n",
        "\n",
        "unnorm_dataset_model.compile(optimizer='adam', loss='categorical_crossentropy', metrics=['accuracy'])"
      ],
      "metadata": {
        "id": "qf3RnGDKdgwP"
      },
      "execution_count": 33,
      "outputs": []
    },
    {
      "cell_type": "code",
      "source": [
        "norm_dataset_model= tf.keras.models.Sequential([\n",
        "    tf.keras.layers.Conv2D(32, (3, 3), activation='relu', kernel_regularizer=tf.keras.regularizers.l2(0.01), input_shape=(128, None, 1)),\n",
        "    tf.keras.layers.BatchNormalization(),  # Add Batch Normalization\n",
        "    tf.keras.layers.MaxPooling2D((2, 2)),\n",
        "\n",
        "    tf.keras.layers.Conv2D(64, (3, 3), activation='relu', kernel_regularizer=tf.keras.regularizers.l2(0.01)),\n",
        "    tf.keras.layers.BatchNormalization(),  # Add Batch Normalization\n",
        "    tf.keras.layers.MaxPooling2D((2, 2)),\n",
        "\n",
        "    # tf.keras.layers.Conv2D(128, (3, 3), activation='relu', kernel_regularizer=tf.keras.regularizers.l2(0.01)),  # More Conv layers\n",
        "    # tf.keras.layers.BatchNormalization(),  # Add Batch Normalization\n",
        "    # tf.keras.layers.MaxPooling2D((2, 2)),\n",
        "\n",
        "    # tf.keras.layers.Conv2D(256, (3, 3), activation='relu', kernel_regularizer=tf.keras.regularizers.l2(0.001)),  # Even more Conv layers\n",
        "    # tf.keras.layers.BatchNormalization(),  # Add Batch Normalization\n",
        "    # tf.keras.layers.MaxPooling2D((2, 2)),\n",
        "\n",
        "    tf.keras.layers.GlobalAveragePooling2D(),\n",
        "\n",
        "    # tf.keras.layers.Dense(512, activation='relu', kernel_regularizer=tf.keras.regularizers.l2(0.01)),  # Larger Dense Layer\n",
        "    # tf.keras.layers.Dropout(0.5),  # Dropout for regularization\n",
        "\n",
        "    # tf.keras.layers.Dense(256, activation='relu', kernel_regularizer=tf.keras.regularizers.l2(0.01)),  # Another Dense Layer\n",
        "    # tf.keras.layers.Dropout(0.5),  # Dropout for regularization\n",
        "\n",
        "    tf.keras.layers.Dense(num_classes, activation='softmax')  # Output layer\n",
        "])\n",
        "\n",
        "norm_dataset_model.compile(optimizer='adam', loss='categorical_crossentropy', metrics=['accuracy'])"
      ],
      "metadata": {
        "id": "jxYe_bg_iMIO"
      },
      "execution_count": 34,
      "outputs": []
    },
    {
      "cell_type": "markdown",
      "source": [
        "This cell defines an `EarlyStopping` callback.  This callback is used during model training to prevent overfitting.  It monitors the validation loss (`val_loss`) and stops training if the validation loss doesn't improve for a specified number of epochs (`patience=5`).  `restore_best_weights=True` ensures that the model's weights from the epoch with the lowest validation loss are restored, effectively giving you the best performing model."
      ],
      "metadata": {
        "id": "3tlnB8QF-EUW"
      }
    },
    {
      "cell_type": "code",
      "source": [
        "early_stopping = EarlyStopping(\n",
        "    monitor='val_loss',  # Monitor validation loss\n",
        "    patience=5,         # Number of epochs with no improvement before stopping\n",
        "    restore_best_weights=True  # Restore the weights from the epoch with the best validation loss\n",
        ")"
      ],
      "metadata": {
        "id": "qW1p_4xhNX1q"
      },
      "execution_count": 30,
      "outputs": []
    },
    {
      "cell_type": "markdown",
      "source": [
        "This cell defines a `ReduceLROnPlateau` callback. This callback dynamically adjusts the learning rate during training. It monitors the validation loss (`val_loss`) and, if the loss doesn't improve for a certain number of epochs (`patience=3`), it reduces the learning rate by a specified factor (`factor=0.5`).  `min_lr` sets a lower bound for the learning rate, preventing it from becoming too small.  This technique can help the model converge to a better solution."
      ],
      "metadata": {
        "id": "cww4nd3X-Id4"
      }
    },
    {
      "cell_type": "code",
      "source": [
        "reduce_lr = ReduceLROnPlateau(\n",
        "    monitor='val_loss',  # Monitor validation loss\n",
        "    factor=0.5,          # Reduce learning rate by this factor (e.g., 0.5)\n",
        "    patience=3,         # Number of epochs with no improvement before reducing LR\n",
        "    min_lr=1e-5         # Minimum learning rate\n",
        ")"
      ],
      "metadata": {
        "id": "gd-6qeUcf3W3"
      },
      "execution_count": 31,
      "outputs": []
    },
    {
      "cell_type": "markdown",
      "source": [
        "This cell trains the model using the unnormalized data.  It uses the `model.fit` method, passing the training and validation datasets.  The training process is monitored by the `early_stopping` and `reduce_lr` callbacks, which help prevent overfitting and adjust the learning rate during training. The model is trained for a maximum of 50 epochs, but training might stop earlier if the `early_stopping` condition is met."
      ],
      "metadata": {
        "id": "KjUSetak-Ncv"
      }
    },
    {
      "cell_type": "code",
      "source": [
        "unnormalized_data_train_history = unnorm_dataset_model.fit(\n",
        "    unnorm_train_dataset,\n",
        "    epochs=50,\n",
        "    validation_data=unnorm_test_dataset,\n",
        "    callbacks=[early_stopping, reduce_lr]  # Add the callback here\n",
        "    )  # Adjust epochs and batch size as needed"
      ],
      "metadata": {
        "id": "ec5NfA-IePUp",
        "colab": {
          "base_uri": "https://localhost:8080/"
        },
        "outputId": "f81dfaa4-b34d-4445-9258-a922dbc10aae"
      },
      "execution_count": 35,
      "outputs": [
        {
          "output_type": "stream",
          "name": "stdout",
          "text": [
            "Epoch 1/50\n",
            "     75/Unknown \u001b[1m40s\u001b[0m 485ms/step - accuracy: 0.2915 - loss: 2.3645"
          ]
        },
        {
          "output_type": "stream",
          "name": "stderr",
          "text": [
            "/usr/local/lib/python3.11/dist-packages/keras/src/trainers/epoch_iterator.py:151: UserWarning: Your input ran out of data; interrupting training. Make sure that your dataset or generator can generate at least `steps_per_epoch * epochs` batches. You may need to use the `.repeat()` function when building your dataset.\n",
            "  self._interrupted_warning()\n"
          ]
        },
        {
          "output_type": "stream",
          "name": "stdout",
          "text": [
            "\b\b\b\b\b\b\b\b\b\b\b\b\b\b\b\b\b\b\b\b\b\b\b\b\b\b\b\b\b\b\b\b\b\b\b\b\b\b\b\b\b\b\b\b\b\b\b\b\b\b\b\b\b\b\b\b\b\b\b\b\b\b\b\b\r\u001b[1m75/75\u001b[0m \u001b[32m━━━━━━━━━━━━━━━━━━━━\u001b[0m\u001b[37m\u001b[0m \u001b[1m43s\u001b[0m 533ms/step - accuracy: 0.2931 - loss: 2.3604 - val_accuracy: 0.1950 - val_loss: 3.9680 - learning_rate: 0.0010\n",
            "Epoch 2/50\n",
            "\u001b[1m75/75\u001b[0m \u001b[32m━━━━━━━━━━━━━━━━━━━━\u001b[0m\u001b[37m\u001b[0m \u001b[1m10s\u001b[0m 129ms/step - accuracy: 0.5411 - loss: 1.6375 - val_accuracy: 0.4017 - val_loss: 2.0705 - learning_rate: 0.0010\n",
            "Epoch 3/50\n",
            "\u001b[1m75/75\u001b[0m \u001b[32m━━━━━━━━━━━━━━━━━━━━\u001b[0m\u001b[37m\u001b[0m \u001b[1m10s\u001b[0m 130ms/step - accuracy: 0.6223 - loss: 1.4332 - val_accuracy: 0.3367 - val_loss: 2.0396 - learning_rate: 0.0010\n",
            "Epoch 4/50\n",
            "\u001b[1m75/75\u001b[0m \u001b[32m━━━━━━━━━━━━━━━━━━━━\u001b[0m\u001b[37m\u001b[0m \u001b[1m10s\u001b[0m 129ms/step - accuracy: 0.6438 - loss: 1.3126 - val_accuracy: 0.2167 - val_loss: 2.2798 - learning_rate: 0.0010\n",
            "Epoch 5/50\n",
            "\u001b[1m75/75\u001b[0m \u001b[32m━━━━━━━━━━━━━━━━━━━━\u001b[0m\u001b[37m\u001b[0m \u001b[1m10s\u001b[0m 138ms/step - accuracy: 0.6688 - loss: 1.2227 - val_accuracy: 0.2083 - val_loss: 3.2676 - learning_rate: 0.0010\n",
            "Epoch 6/50\n",
            "\u001b[1m75/75\u001b[0m \u001b[32m━━━━━━━━━━━━━━━━━━━━\u001b[0m\u001b[37m\u001b[0m \u001b[1m20s\u001b[0m 131ms/step - accuracy: 0.6843 - loss: 1.1504 - val_accuracy: 0.3150 - val_loss: 2.8346 - learning_rate: 0.0010\n",
            "Epoch 7/50\n",
            "\u001b[1m75/75\u001b[0m \u001b[32m━━━━━━━━━━━━━━━━━━━━\u001b[0m\u001b[37m\u001b[0m \u001b[1m10s\u001b[0m 131ms/step - accuracy: 0.7191 - loss: 1.0702 - val_accuracy: 0.4533 - val_loss: 1.7493 - learning_rate: 5.0000e-04\n",
            "Epoch 8/50\n",
            "\u001b[1m75/75\u001b[0m \u001b[32m━━━━━━━━━━━━━━━━━━━━\u001b[0m\u001b[37m\u001b[0m \u001b[1m10s\u001b[0m 131ms/step - accuracy: 0.7317 - loss: 1.0259 - val_accuracy: 0.4800 - val_loss: 1.6716 - learning_rate: 5.0000e-04\n",
            "Epoch 9/50\n",
            "\u001b[1m75/75\u001b[0m \u001b[32m━━━━━━━━━━━━━━━━━━━━\u001b[0m\u001b[37m\u001b[0m \u001b[1m10s\u001b[0m 130ms/step - accuracy: 0.7419 - loss: 0.9948 - val_accuracy: 0.4767 - val_loss: 1.6242 - learning_rate: 5.0000e-04\n",
            "Epoch 10/50\n",
            "\u001b[1m75/75\u001b[0m \u001b[32m━━━━━━━━━━━━━━━━━━━━\u001b[0m\u001b[37m\u001b[0m \u001b[1m10s\u001b[0m 131ms/step - accuracy: 0.7477 - loss: 0.9676 - val_accuracy: 0.4967 - val_loss: 1.6677 - learning_rate: 5.0000e-04\n",
            "Epoch 11/50\n",
            "\u001b[1m75/75\u001b[0m \u001b[32m━━━━━━━━━━━━━━━━━━━━\u001b[0m\u001b[37m\u001b[0m \u001b[1m10s\u001b[0m 129ms/step - accuracy: 0.7532 - loss: 0.9433 - val_accuracy: 0.5083 - val_loss: 1.5608 - learning_rate: 5.0000e-04\n",
            "Epoch 12/50\n",
            "\u001b[1m75/75\u001b[0m \u001b[32m━━━━━━━━━━━━━━━━━━━━\u001b[0m\u001b[37m\u001b[0m \u001b[1m10s\u001b[0m 130ms/step - accuracy: 0.7577 - loss: 0.9254 - val_accuracy: 0.4583 - val_loss: 1.6404 - learning_rate: 5.0000e-04\n",
            "Epoch 13/50\n",
            "\u001b[1m75/75\u001b[0m \u001b[32m━━━━━━━━━━━━━━━━━━━━\u001b[0m\u001b[37m\u001b[0m \u001b[1m10s\u001b[0m 129ms/step - accuracy: 0.7634 - loss: 0.9015 - val_accuracy: 0.6117 - val_loss: 1.2805 - learning_rate: 5.0000e-04\n",
            "Epoch 14/50\n",
            "\u001b[1m75/75\u001b[0m \u001b[32m━━━━━━━━━━━━━━━━━━━━\u001b[0m\u001b[37m\u001b[0m \u001b[1m10s\u001b[0m 130ms/step - accuracy: 0.7662 - loss: 0.8819 - val_accuracy: 0.5833 - val_loss: 1.3297 - learning_rate: 5.0000e-04\n",
            "Epoch 15/50\n",
            "\u001b[1m75/75\u001b[0m \u001b[32m━━━━━━━━━━━━━━━━━━━━\u001b[0m\u001b[37m\u001b[0m \u001b[1m10s\u001b[0m 132ms/step - accuracy: 0.7712 - loss: 0.8622 - val_accuracy: 0.5900 - val_loss: 1.3685 - learning_rate: 5.0000e-04\n",
            "Epoch 16/50\n",
            "\u001b[1m75/75\u001b[0m \u001b[32m━━━━━━━━━━━━━━━━━━━━\u001b[0m\u001b[37m\u001b[0m \u001b[1m10s\u001b[0m 130ms/step - accuracy: 0.7802 - loss: 0.8451 - val_accuracy: 0.5433 - val_loss: 1.4638 - learning_rate: 5.0000e-04\n",
            "Epoch 17/50\n",
            "\u001b[1m75/75\u001b[0m \u001b[32m━━━━━━━━━━━━━━━━━━━━\u001b[0m\u001b[37m\u001b[0m \u001b[1m10s\u001b[0m 136ms/step - accuracy: 0.7984 - loss: 0.8094 - val_accuracy: 0.5817 - val_loss: 1.3337 - learning_rate: 2.5000e-04\n",
            "Epoch 18/50\n",
            "\u001b[1m75/75\u001b[0m \u001b[32m━━━━━━━━━━━━━━━━━━━━\u001b[0m\u001b[37m\u001b[0m \u001b[1m10s\u001b[0m 130ms/step - accuracy: 0.8084 - loss: 0.7888 - val_accuracy: 0.5783 - val_loss: 1.3438 - learning_rate: 2.5000e-04\n"
          ]
        }
      ]
    },
    {
      "cell_type": "markdown",
      "source": [
        "This cell defines a function `calculate_measures` to evaluate the model's performance. It takes a boolean argument `norm` to select between normalized and unnormalized test datasets.  The function iterates through the chosen test dataset, makes predictions, and calculates several evaluation metrics:\n",
        "\n",
        "*   **Predictions:** Predicts probabilities for each batch of data and stores them in `y_pred_probs`.\n",
        "*   **True Labels:** Extracts the true labels from the dataset and stores them in `y_true`.\n",
        "*   **Loss:** Calculates the loss using `model.evaluate`.\n",
        "*   **Metrics:** Calculates F1-score, precision, recall, and accuracy using scikit-learn and TensorFlow metrics.\n",
        "*   **Confusion Matrix:** Computes the confusion matrix.\n",
        "\n",
        "The function then `yield`s these calculated values, making them available for use.  It is important to note that the true labels and predicted probabilities are converted from one-hot encoded format to class labels using `np.argmax`."
      ],
      "metadata": {
        "id": "JG8O1Nf2-XOO"
      }
    },
    {
      "cell_type": "code",
      "source": [
        "def caluclate_measures(norm):\n",
        "  y_pred_probs = []\n",
        "  y_true = []\n",
        "  if not norm:\n",
        "    for x, y in unnorm_test_dataset:  # Iterate over the TensorFlow Dataset\n",
        "      y_pred_batch_probs = unnorm_dataset_model.predict(x)  # Predict probabilities for the current batch\n",
        "      y_pred_probs.extend(y_pred_batch_probs)  # Append the batch predictions\n",
        "      y_true.extend(y.numpy())  # Append the true labels\n",
        "    loss = unnorm_dataset_model.evaluate(unnorm_test_dataset, verbose=0)[0] # Loss from evaluate function\n",
        "  else:\n",
        "    for x, y in norm_test_dataset:  # Iterate over the TensorFlow Dataset\n",
        "      y_pred_batch_probs = norm_dataset_model.predict(x)  # Predict probabilities for the current batch\n",
        "      y_pred_probs.extend(y_pred_batch_probs)  # Append the batch predictions\n",
        "      y_true.extend(y.numpy())  # Append the true labels\n",
        "    loss = norm_dataset_model.evaluate(norm_test_dataset, verbose=0)[0] # Loss from evaluate function\n",
        "  y_pred = np.argmax(y_pred_probs, axis=1)  # Predicted labels\n",
        "  y_true = np.argmax(y_true, axis=1)  # True labels (convert one-hot to class labels)\n",
        "  f1 = f1_score(y_true, y_pred, average='macro')\n",
        "  precision = precision_score(y_true, y_pred, average='macro')\n",
        "  recall = recall_score(y_true, y_pred, average='macro')\n",
        "  cm = confusion_matrix(y_true, y_pred)\n",
        "  accuracy = tf.keras.metrics.Accuracy()(y_true, y_pred).numpy()\n",
        "  yield y_pred\n",
        "  yield y_true\n",
        "  yield accuracy\n",
        "  yield loss\n",
        "  yield f1\n",
        "  yield precision\n",
        "  yield recall\n",
        "  yield cm"
      ],
      "metadata": {
        "id": "iuPMoTjzhl7d"
      },
      "execution_count": 36,
      "outputs": []
    },
    {
      "cell_type": "markdown",
      "source": [
        "This cell calls the `calculate_measures` function with `norm=0` (indicating unnormalized data) to evaluate the model's performance on the unnormalized test dataset. The returned values (predicted labels, true labels, accuracy, loss, F1-score, precision, recall, and confusion matrix) are assigned to corresponding variables."
      ],
      "metadata": {
        "id": "f6gXbieK-eRH"
      }
    },
    {
      "cell_type": "code",
      "source": [
        "unnorm_data_test_y_pred, unnorm_data_test_y_true, unnorm_data_test_accuracy, unnorm_data_test_loss, unnorm_data_test_f1, unnorm_data_test_precision, unnorm_data_test_recall, unnorm_data_test_cm = caluclate_measures(0)\n",
        "class_labels = np.unique(unnorm_data_test_y_pred)\n",
        "class_labels = [list_of_musics[i] for i in np.unique(unnorm_data_test_y_pred)]"
      ],
      "metadata": {
        "id": "MRDmS3ebeZoK",
        "colab": {
          "base_uri": "https://localhost:8080/"
        },
        "outputId": "00404f89-ef80-407c-821b-4a29febe27f3"
      },
      "execution_count": 37,
      "outputs": [
        {
          "output_type": "stream",
          "name": "stdout",
          "text": [
            "\u001b[1m1/1\u001b[0m \u001b[32m━━━━━━━━━━━━━━━━━━━━\u001b[0m\u001b[37m\u001b[0m \u001b[1m0s\u001b[0m 364ms/step\n",
            "\u001b[1m1/1\u001b[0m \u001b[32m━━━━━━━━━━━━━━━━━━━━\u001b[0m\u001b[37m\u001b[0m \u001b[1m0s\u001b[0m 354ms/step\n",
            "\u001b[1m1/1\u001b[0m \u001b[32m━━━━━━━━━━━━━━━━━━━━\u001b[0m\u001b[37m\u001b[0m \u001b[1m0s\u001b[0m 259ms/step\n",
            "\u001b[1m1/1\u001b[0m \u001b[32m━━━━━━━━━━━━━━━━━━━━\u001b[0m\u001b[37m\u001b[0m \u001b[1m0s\u001b[0m 72ms/step\n",
            "\u001b[1m1/1\u001b[0m \u001b[32m━━━━━━━━━━━━━━━━━━━━\u001b[0m\u001b[37m\u001b[0m \u001b[1m0s\u001b[0m 74ms/step\n",
            "\u001b[1m1/1\u001b[0m \u001b[32m━━━━━━━━━━━━━━━━━━━━\u001b[0m\u001b[37m\u001b[0m \u001b[1m0s\u001b[0m 271ms/step\n",
            "\u001b[1m1/1\u001b[0m \u001b[32m━━━━━━━━━━━━━━━━━━━━\u001b[0m\u001b[37m\u001b[0m \u001b[1m0s\u001b[0m 276ms/step\n",
            "\u001b[1m1/1\u001b[0m \u001b[32m━━━━━━━━━━━━━━━━━━━━\u001b[0m\u001b[37m\u001b[0m \u001b[1m0s\u001b[0m 75ms/step\n",
            "\u001b[1m1/1\u001b[0m \u001b[32m━━━━━━━━━━━━━━━━━━━━\u001b[0m\u001b[37m\u001b[0m \u001b[1m0s\u001b[0m 274ms/step\n",
            "\u001b[1m1/1\u001b[0m \u001b[32m━━━━━━━━━━━━━━━━━━━━\u001b[0m\u001b[37m\u001b[0m \u001b[1m0s\u001b[0m 73ms/step\n",
            "\u001b[1m1/1\u001b[0m \u001b[32m━━━━━━━━━━━━━━━━━━━━\u001b[0m\u001b[37m\u001b[0m \u001b[1m0s\u001b[0m 67ms/step\n",
            "\u001b[1m1/1\u001b[0m \u001b[32m━━━━━━━━━━━━━━━━━━━━\u001b[0m\u001b[37m\u001b[0m \u001b[1m0s\u001b[0m 72ms/step\n",
            "\u001b[1m1/1\u001b[0m \u001b[32m━━━━━━━━━━━━━━━━━━━━\u001b[0m\u001b[37m\u001b[0m \u001b[1m0s\u001b[0m 251ms/step\n",
            "\u001b[1m1/1\u001b[0m \u001b[32m━━━━━━━━━━━━━━━━━━━━\u001b[0m\u001b[37m\u001b[0m \u001b[1m0s\u001b[0m 70ms/step\n",
            "\u001b[1m1/1\u001b[0m \u001b[32m━━━━━━━━━━━━━━━━━━━━\u001b[0m\u001b[37m\u001b[0m \u001b[1m0s\u001b[0m 70ms/step\n",
            "\u001b[1m1/1\u001b[0m \u001b[32m━━━━━━━━━━━━━━━━━━━━\u001b[0m\u001b[37m\u001b[0m \u001b[1m0s\u001b[0m 71ms/step\n",
            "\u001b[1m1/1\u001b[0m \u001b[32m━━━━━━━━━━━━━━━━━━━━\u001b[0m\u001b[37m\u001b[0m \u001b[1m0s\u001b[0m 70ms/step\n",
            "\u001b[1m1/1\u001b[0m \u001b[32m━━━━━━━━━━━━━━━━━━━━\u001b[0m\u001b[37m\u001b[0m \u001b[1m0s\u001b[0m 73ms/step\n",
            "\u001b[1m1/1\u001b[0m \u001b[32m━━━━━━━━━━━━━━━━━━━━\u001b[0m\u001b[37m\u001b[0m \u001b[1m0s\u001b[0m 347ms/step\n"
          ]
        }
      ]
    },
    {
      "cell_type": "code",
      "source": [
        "print(f\"Test Loss: {unnorm_data_test_loss}\")\n",
        "print(f\"Test Accuracy: {unnorm_data_test_accuracy}\")\n",
        "print(f\"F1-score: {unnorm_data_test_f1}\")\n",
        "print(f\"Precision: {unnorm_data_test_precision}\")\n",
        "print(f\"Recall: {unnorm_data_test_recall}\")\n",
        "print(\"Confusion Matrix:\")\n",
        "print(unnorm_data_test_cm)"
      ],
      "metadata": {
        "colab": {
          "base_uri": "https://localhost:8080/"
        },
        "id": "qLE1xakXieL_",
        "outputId": "b7f67b5d-f9a0-4f2b-870e-ba35de778339"
      },
      "execution_count": 38,
      "outputs": [
        {
          "output_type": "stream",
          "name": "stdout",
          "text": [
            "Test Loss: 1.2805172204971313\n",
            "Test Accuracy: 0.6116666793823242\n",
            "F1-score: 0.5716727326148143\n",
            "Precision: 0.7775598630261606\n",
            "Recall: 0.6049195057012104\n",
            "Confusion Matrix:\n",
            "[[ 5  0  1  2  0 25 23  4  0  0]\n",
            " [ 0 37 16  3  0  3  0  2  0  0]\n",
            " [ 0  0 51  0  0 11  3  2  0  0]\n",
            " [ 0  0  5 38  0 13  4  0  0  0]\n",
            " [ 0  0  7 12  2 13 21  0  0  1]\n",
            " [ 0  2  1  0  0 58  1  0  0  0]\n",
            " [ 0  0  1  0  0  9 42  0  0  0]\n",
            " [ 0  0  0  0  0  1  2 63  0  0]\n",
            " [ 0  0  0  0  0  0  9  0 47  1]\n",
            " [ 0  0  0  1  0  4 29  0  1 24]]\n"
          ]
        }
      ]
    },
    {
      "cell_type": "markdown",
      "source": [
        "This cell visualizes the confusion matrix for the unnormalized test data. It uses `seaborn`'s `heatmap` function to create a visually appealing representation of the confusion matrix.  The `annot=True` argument displays the counts within each cell, `fmt='d'` formats the counts as integers, and `cmap='Blues'` sets the color scheme.  The x and y axis labels are set to the unique genre labels, and a title is added for clarity.  `plt.show()` displays the generated plot."
      ],
      "metadata": {
        "id": "c7UuCpvH-lFf"
      }
    },
    {
      "cell_type": "code",
      "source": [
        "plt.figure(figsize=(10, 8))\n",
        "sns.heatmap(unnorm_data_test_cm, annot=True, fmt='d', cmap='Blues',\n",
        "            xticklabels=class_labels,  # Label columns with true labels\n",
        "            yticklabels=class_labels)  # Label rows with true labels\n",
        "plt.xlabel('Predicted Label')\n",
        "plt.ylabel('True Label')\n",
        "plt.title('Confusion Matrix')\n",
        "plt.show()"
      ],
      "metadata": {
        "colab": {
          "base_uri": "https://localhost:8080/",
          "height": 718
        },
        "id": "mW28CP0UBB_C",
        "outputId": "cd9da96f-c4cb-483c-d32e-5a4f8d259fa3"
      },
      "execution_count": 39,
      "outputs": [
        {
          "output_type": "display_data",
          "data": {
            "text/plain": [
              "<Figure size 1000x800 with 2 Axes>"
            ],
            "image/png": "[encoded data removed]"
          },
          "metadata": {}
        }
      ]
    },
    {
      "cell_type": "markdown",
      "source": [
        "This cell trains the same model, but this time using the *normalized* data.  It's identical to the previous training cell, except it uses `norm_train_dataset` and `norm_test_dataset`.  The same callbacks (`early_stopping` and `reduce_lr`) are used to manage the training process.  This allows for a direct comparison of model performance between using normalized and unnormalized input data."
      ],
      "metadata": {
        "id": "CWizfRKm-ss3"
      }
    },
    {
      "cell_type": "code",
      "source": [
        "normalized_data_train_history = norm_dataset_model.fit(\n",
        "    norm_train_dataset,\n",
        "    epochs=50,\n",
        "    validation_data=norm_test_dataset,\n",
        "    callbacks=[early_stopping, reduce_lr]  # Add the callback here\n",
        "    )  # Adjust epochs and batch size as needed"
      ],
      "metadata": {
        "id": "hRxzuoBb6rHi",
        "colab": {
          "base_uri": "https://localhost:8080/"
        },
        "outputId": "0bffc607-c090-4d97-af4e-b4ea9e834b07"
      },
      "execution_count": 40,
      "outputs": [
        {
          "output_type": "stream",
          "name": "stdout",
          "text": [
            "Epoch 1/50\n",
            "     75/Unknown \u001b[1m40s\u001b[0m 484ms/step - accuracy: 0.3041 - loss: 2.4393"
          ]
        },
        {
          "output_type": "stream",
          "name": "stderr",
          "text": [
            "/usr/local/lib/python3.11/dist-packages/keras/src/trainers/epoch_iterator.py:151: UserWarning: Your input ran out of data; interrupting training. Make sure that your dataset or generator can generate at least `steps_per_epoch * epochs` batches. You may need to use the `.repeat()` function when building your dataset.\n",
            "  self._interrupted_warning()\n"
          ]
        },
        {
          "output_type": "stream",
          "name": "stdout",
          "text": [
            "\b\b\b\b\b\b\b\b\b\b\b\b\b\b\b\b\b\b\b\b\b\b\b\b\b\b\b\b\b\b\b\b\b\b\b\b\b\b\b\b\b\b\b\b\b\b\b\b\b\b\b\b\b\b\b\b\b\b\b\b\b\b\b\b\r\u001b[1m75/75\u001b[0m \u001b[32m━━━━━━━━━━━━━━━━━━━━\u001b[0m\u001b[37m\u001b[0m \u001b[1m44s\u001b[0m 536ms/step - accuracy: 0.3054 - loss: 2.4355 - val_accuracy: 0.1100 - val_loss: 2.5828 - learning_rate: 0.0010\n",
            "Epoch 2/50\n",
            "\u001b[1m75/75\u001b[0m \u001b[32m━━━━━━━━━━━━━━━━━━━━\u001b[0m\u001b[37m\u001b[0m \u001b[1m10s\u001b[0m 130ms/step - accuracy: 0.5424 - loss: 1.7017 - val_accuracy: 0.1100 - val_loss: 2.7232 - learning_rate: 0.0010\n",
            "Epoch 3/50\n",
            "\u001b[1m75/75\u001b[0m \u001b[32m━━━━━━━━━━━━━━━━━━━━\u001b[0m\u001b[37m\u001b[0m \u001b[1m10s\u001b[0m 129ms/step - accuracy: 0.6243 - loss: 1.4308 - val_accuracy: 0.1233 - val_loss: 2.6762 - learning_rate: 0.0010\n",
            "Epoch 4/50\n",
            "\u001b[1m75/75\u001b[0m \u001b[32m━━━━━━━━━━━━━━━━━━━━\u001b[0m\u001b[37m\u001b[0m \u001b[1m10s\u001b[0m 128ms/step - accuracy: 0.6616 - loss: 1.2586 - val_accuracy: 0.2050 - val_loss: 2.4791 - learning_rate: 0.0010\n",
            "Epoch 5/50\n",
            "\u001b[1m75/75\u001b[0m \u001b[32m━━━━━━━━━━━━━━━━━━━━\u001b[0m\u001b[37m\u001b[0m \u001b[1m10s\u001b[0m 129ms/step - accuracy: 0.6930 - loss: 1.1477 - val_accuracy: 0.2317 - val_loss: 2.2815 - learning_rate: 0.0010\n",
            "Epoch 6/50\n",
            "\u001b[1m75/75\u001b[0m \u001b[32m━━━━━━━━━━━━━━━━━━━━\u001b[0m\u001b[37m\u001b[0m \u001b[1m10s\u001b[0m 130ms/step - accuracy: 0.7077 - loss: 1.0676 - val_accuracy: 0.2817 - val_loss: 2.0767 - learning_rate: 0.0010\n",
            "Epoch 7/50\n",
            "\u001b[1m75/75\u001b[0m \u001b[32m━━━━━━━━━━━━━━━━━━━━\u001b[0m\u001b[37m\u001b[0m \u001b[1m10s\u001b[0m 129ms/step - accuracy: 0.7277 - loss: 1.0055 - val_accuracy: 0.4233 - val_loss: 1.6802 - learning_rate: 0.0010\n",
            "Epoch 8/50\n",
            "\u001b[1m75/75\u001b[0m \u001b[32m━━━━━━━━━━━━━━━━━━━━\u001b[0m\u001b[37m\u001b[0m \u001b[1m10s\u001b[0m 131ms/step - accuracy: 0.7405 - loss: 0.9549 - val_accuracy: 0.5883 - val_loss: 1.3511 - learning_rate: 0.0010\n",
            "Epoch 9/50\n",
            "\u001b[1m75/75\u001b[0m \u001b[32m━━━━━━━━━━━━━━━━━━━━\u001b[0m\u001b[37m\u001b[0m \u001b[1m10s\u001b[0m 129ms/step - accuracy: 0.7513 - loss: 0.9196 - val_accuracy: 0.6567 - val_loss: 1.1688 - learning_rate: 0.0010\n",
            "Epoch 10/50\n",
            "\u001b[1m75/75\u001b[0m \u001b[32m━━━━━━━━━━━━━━━━━━━━\u001b[0m\u001b[37m\u001b[0m \u001b[1m10s\u001b[0m 130ms/step - accuracy: 0.7665 - loss: 0.8881 - val_accuracy: 0.6883 - val_loss: 1.0863 - learning_rate: 0.0010\n",
            "Epoch 11/50\n",
            "\u001b[1m75/75\u001b[0m \u001b[32m━━━━━━━━━━━━━━━━━━━━\u001b[0m\u001b[37m\u001b[0m \u001b[1m10s\u001b[0m 131ms/step - accuracy: 0.7681 - loss: 0.8575 - val_accuracy: 0.6750 - val_loss: 1.0569 - learning_rate: 0.0010\n",
            "Epoch 12/50\n",
            "\u001b[1m75/75\u001b[0m \u001b[32m━━━━━━━━━━━━━━━━━━━━\u001b[0m\u001b[37m\u001b[0m \u001b[1m10s\u001b[0m 130ms/step - accuracy: 0.7760 - loss: 0.8329 - val_accuracy: 0.6183 - val_loss: 1.0769 - learning_rate: 0.0010\n",
            "Epoch 13/50\n",
            "\u001b[1m75/75\u001b[0m \u001b[32m━━━━━━━━━━━━━━━━━━━━\u001b[0m\u001b[37m\u001b[0m \u001b[1m10s\u001b[0m 129ms/step - accuracy: 0.7883 - loss: 0.8171 - val_accuracy: 0.6133 - val_loss: 1.0889 - learning_rate: 0.0010\n",
            "Epoch 14/50\n",
            "\u001b[1m75/75\u001b[0m \u001b[32m━━━━━━━━━━━━━━━━━━━━\u001b[0m\u001b[37m\u001b[0m \u001b[1m10s\u001b[0m 130ms/step - accuracy: 0.7916 - loss: 0.7924 - val_accuracy: 0.6483 - val_loss: 1.0820 - learning_rate: 0.0010\n",
            "Epoch 15/50\n",
            "\u001b[1m75/75\u001b[0m \u001b[32m━━━━━━━━━━━━━━━━━━━━\u001b[0m\u001b[37m\u001b[0m \u001b[1m10s\u001b[0m 129ms/step - accuracy: 0.8200 - loss: 0.7468 - val_accuracy: 0.7483 - val_loss: 0.8627 - learning_rate: 5.0000e-04\n",
            "Epoch 16/50\n",
            "\u001b[1m75/75\u001b[0m \u001b[32m━━━━━━━━━━━━━━━━━━━━\u001b[0m\u001b[37m\u001b[0m \u001b[1m10s\u001b[0m 130ms/step - accuracy: 0.8326 - loss: 0.7128 - val_accuracy: 0.7583 - val_loss: 0.8262 - learning_rate: 5.0000e-04\n",
            "Epoch 17/50\n",
            "\u001b[1m75/75\u001b[0m \u001b[32m━━━━━━━━━━━━━━━━━━━━\u001b[0m\u001b[37m\u001b[0m \u001b[1m10s\u001b[0m 129ms/step - accuracy: 0.8296 - loss: 0.6993 - val_accuracy: 0.7600 - val_loss: 0.8142 - learning_rate: 5.0000e-04\n",
            "Epoch 18/50\n",
            "\u001b[1m75/75\u001b[0m \u001b[32m━━━━━━━━━━━━━━━━━━━━\u001b[0m\u001b[37m\u001b[0m \u001b[1m10s\u001b[0m 130ms/step - accuracy: 0.8304 - loss: 0.6886 - val_accuracy: 0.7450 - val_loss: 0.8122 - learning_rate: 5.0000e-04\n",
            "Epoch 19/50\n",
            "\u001b[1m75/75\u001b[0m \u001b[32m━━━━━━━━━━━━━━━━━━━━\u001b[0m\u001b[37m\u001b[0m \u001b[1m10s\u001b[0m 131ms/step - accuracy: 0.8327 - loss: 0.6786 - val_accuracy: 0.7417 - val_loss: 0.8106 - learning_rate: 5.0000e-04\n",
            "Epoch 20/50\n",
            "\u001b[1m75/75\u001b[0m \u001b[32m━━━━━━━━━━━━━━━━━━━━\u001b[0m\u001b[37m\u001b[0m \u001b[1m10s\u001b[0m 129ms/step - accuracy: 0.8353 - loss: 0.6695 - val_accuracy: 0.7450 - val_loss: 0.8099 - learning_rate: 5.0000e-04\n",
            "Epoch 21/50\n",
            "\u001b[1m75/75\u001b[0m \u001b[32m━━━━━━━━━━━━━━━━━━━━\u001b[0m\u001b[37m\u001b[0m \u001b[1m10s\u001b[0m 130ms/step - accuracy: 0.8367 - loss: 0.6606 - val_accuracy: 0.7467 - val_loss: 0.8091 - learning_rate: 5.0000e-04\n",
            "Epoch 22/50\n",
            "\u001b[1m75/75\u001b[0m \u001b[32m━━━━━━━━━━━━━━━━━━━━\u001b[0m\u001b[37m\u001b[0m \u001b[1m10s\u001b[0m 130ms/step - accuracy: 0.8422 - loss: 0.6515 - val_accuracy: 0.7417 - val_loss: 0.8084 - learning_rate: 5.0000e-04\n",
            "Epoch 23/50\n",
            "\u001b[1m75/75\u001b[0m \u001b[32m━━━━━━━━━━━━━━━━━━━━\u001b[0m\u001b[37m\u001b[0m \u001b[1m10s\u001b[0m 130ms/step - accuracy: 0.8433 - loss: 0.6433 - val_accuracy: 0.7433 - val_loss: 0.8043 - learning_rate: 5.0000e-04\n",
            "Epoch 24/50\n",
            "\u001b[1m75/75\u001b[0m \u001b[32m━━━━━━━━━━━━━━━━━━━━\u001b[0m\u001b[37m\u001b[0m \u001b[1m10s\u001b[0m 130ms/step - accuracy: 0.8446 - loss: 0.6353 - val_accuracy: 0.7483 - val_loss: 0.7995 - learning_rate: 5.0000e-04\n",
            "Epoch 25/50\n",
            "\u001b[1m75/75\u001b[0m \u001b[32m━━━━━━━━━━━━━━━━━━━━\u001b[0m\u001b[37m\u001b[0m \u001b[1m10s\u001b[0m 130ms/step - accuracy: 0.8443 - loss: 0.6278 - val_accuracy: 0.7450 - val_loss: 0.7981 - learning_rate: 5.0000e-04\n",
            "Epoch 26/50\n",
            "\u001b[1m75/75\u001b[0m \u001b[32m━━━━━━━━━━━━━━━━━━━━\u001b[0m\u001b[37m\u001b[0m \u001b[1m10s\u001b[0m 129ms/step - accuracy: 0.8476 - loss: 0.6198 - val_accuracy: 0.7500 - val_loss: 0.7915 - learning_rate: 5.0000e-04\n",
            "Epoch 27/50\n",
            "\u001b[1m75/75\u001b[0m \u001b[32m━━━━━━━━━━━━━━━━━━━━\u001b[0m\u001b[37m\u001b[0m \u001b[1m10s\u001b[0m 130ms/step - accuracy: 0.8498 - loss: 0.6120 - val_accuracy: 0.7383 - val_loss: 0.7963 - learning_rate: 5.0000e-04\n",
            "Epoch 28/50\n",
            "\u001b[1m75/75\u001b[0m \u001b[32m━━━━━━━━━━━━━━━━━━━━\u001b[0m\u001b[37m\u001b[0m \u001b[1m10s\u001b[0m 130ms/step - accuracy: 0.8517 - loss: 0.6052 - val_accuracy: 0.7417 - val_loss: 0.7905 - learning_rate: 5.0000e-04\n",
            "Epoch 29/50\n",
            "\u001b[1m75/75\u001b[0m \u001b[32m━━━━━━━━━━━━━━━━━━━━\u001b[0m\u001b[37m\u001b[0m \u001b[1m10s\u001b[0m 129ms/step - accuracy: 0.8534 - loss: 0.5982 - val_accuracy: 0.7400 - val_loss: 0.7895 - learning_rate: 5.0000e-04\n",
            "Epoch 30/50\n",
            "\u001b[1m75/75\u001b[0m \u001b[32m━━━━━━━━━━━━━━━━━━━━\u001b[0m\u001b[37m\u001b[0m \u001b[1m10s\u001b[0m 137ms/step - accuracy: 0.8535 - loss: 0.5916 - val_accuracy: 0.7483 - val_loss: 0.7827 - learning_rate: 5.0000e-04\n",
            "Epoch 31/50\n",
            "\u001b[1m75/75\u001b[0m \u001b[32m━━━━━━━━━━━━━━━━━━━━\u001b[0m\u001b[37m\u001b[0m \u001b[1m10s\u001b[0m 129ms/step - accuracy: 0.8550 - loss: 0.5851 - val_accuracy: 0.7417 - val_loss: 0.7841 - learning_rate: 5.0000e-04\n",
            "Epoch 32/50\n",
            "\u001b[1m75/75\u001b[0m \u001b[32m━━━━━━━━━━━━━━━━━━━━\u001b[0m\u001b[37m\u001b[0m \u001b[1m10s\u001b[0m 130ms/step - accuracy: 0.8577 - loss: 0.5785 - val_accuracy: 0.7500 - val_loss: 0.7692 - learning_rate: 5.0000e-04\n",
            "Epoch 33/50\n",
            "\u001b[1m75/75\u001b[0m \u001b[32m━━━━━━━━━━━━━━━━━━━━\u001b[0m\u001b[37m\u001b[0m \u001b[1m10s\u001b[0m 131ms/step - accuracy: 0.8599 - loss: 0.5717 - val_accuracy: 0.7533 - val_loss: 0.7581 - learning_rate: 5.0000e-04\n",
            "Epoch 34/50\n",
            "\u001b[1m75/75\u001b[0m \u001b[32m━━━━━━━━━━━━━━━━━━━━\u001b[0m\u001b[37m\u001b[0m \u001b[1m10s\u001b[0m 131ms/step - accuracy: 0.8604 - loss: 0.5654 - val_accuracy: 0.7500 - val_loss: 0.7566 - learning_rate: 5.0000e-04\n",
            "Epoch 35/50\n",
            "\u001b[1m75/75\u001b[0m \u001b[32m━━━━━━━━━━━━━━━━━━━━\u001b[0m\u001b[37m\u001b[0m \u001b[1m10s\u001b[0m 131ms/step - accuracy: 0.8611 - loss: 0.5591 - val_accuracy: 0.7450 - val_loss: 0.7594 - learning_rate: 5.0000e-04\n",
            "Epoch 36/50\n",
            "\u001b[1m75/75\u001b[0m \u001b[32m━━━━━━━━━━━━━━━━━━━━\u001b[0m\u001b[37m\u001b[0m \u001b[1m10s\u001b[0m 131ms/step - accuracy: 0.8633 - loss: 0.5531 - val_accuracy: 0.7517 - val_loss: 0.7483 - learning_rate: 5.0000e-04\n",
            "Epoch 37/50\n",
            "\u001b[1m75/75\u001b[0m \u001b[32m━━━━━━━━━━━━━━━━━━━━\u001b[0m\u001b[37m\u001b[0m \u001b[1m10s\u001b[0m 129ms/step - accuracy: 0.8647 - loss: 0.5474 - val_accuracy: 0.7500 - val_loss: 0.7445 - learning_rate: 5.0000e-04\n",
            "Epoch 38/50\n",
            "\u001b[1m75/75\u001b[0m \u001b[32m━━━━━━━━━━━━━━━━━━━━\u001b[0m\u001b[37m\u001b[0m \u001b[1m10s\u001b[0m 130ms/step - accuracy: 0.8650 - loss: 0.5419 - val_accuracy: 0.7517 - val_loss: 0.7453 - learning_rate: 5.0000e-04\n",
            "Epoch 39/50\n",
            "\u001b[1m75/75\u001b[0m \u001b[32m━━━━━━━━━━━━━━━━━━━━\u001b[0m\u001b[37m\u001b[0m \u001b[1m10s\u001b[0m 130ms/step - accuracy: 0.8681 - loss: 0.5368 - val_accuracy: 0.7533 - val_loss: 0.7474 - learning_rate: 5.0000e-04\n",
            "Epoch 40/50\n",
            "\u001b[1m75/75\u001b[0m \u001b[32m━━━━━━━━━━━━━━━━━━━━\u001b[0m\u001b[37m\u001b[0m \u001b[1m10s\u001b[0m 130ms/step - accuracy: 0.8674 - loss: 0.5318 - val_accuracy: 0.7500 - val_loss: 0.7453 - learning_rate: 5.0000e-04\n",
            "Epoch 41/50\n",
            "\u001b[1m75/75\u001b[0m \u001b[32m━━━━━━━━━━━━━━━━━━━━\u001b[0m\u001b[37m\u001b[0m \u001b[1m10s\u001b[0m 136ms/step - accuracy: 0.8807 - loss: 0.5065 - val_accuracy: 0.7917 - val_loss: 0.7333 - learning_rate: 2.5000e-04\n",
            "Epoch 42/50\n",
            "\u001b[1m75/75\u001b[0m \u001b[32m━━━━━━━━━━━━━━━━━━━━\u001b[0m\u001b[37m\u001b[0m \u001b[1m10s\u001b[0m 131ms/step - accuracy: 0.8860 - loss: 0.4983 - val_accuracy: 0.7883 - val_loss: 0.7318 - learning_rate: 2.5000e-04\n",
            "Epoch 43/50\n",
            "\u001b[1m75/75\u001b[0m \u001b[32m━━━━━━━━━━━━━━━━━━━━\u001b[0m\u001b[37m\u001b[0m \u001b[1m10s\u001b[0m 130ms/step - accuracy: 0.8884 - loss: 0.4932 - val_accuracy: 0.7900 - val_loss: 0.7192 - learning_rate: 2.5000e-04\n",
            "Epoch 44/50\n",
            "\u001b[1m75/75\u001b[0m \u001b[32m━━━━━━━━━━━━━━━━━━━━\u001b[0m\u001b[37m\u001b[0m \u001b[1m10s\u001b[0m 130ms/step - accuracy: 0.8889 - loss: 0.4894 - val_accuracy: 0.7867 - val_loss: 0.7105 - learning_rate: 2.5000e-04\n",
            "Epoch 45/50\n",
            "\u001b[1m75/75\u001b[0m \u001b[32m━━━━━━━━━━━━━━━━━━━━\u001b[0m\u001b[37m\u001b[0m \u001b[1m10s\u001b[0m 130ms/step - accuracy: 0.8890 - loss: 0.4858 - val_accuracy: 0.7900 - val_loss: 0.6997 - learning_rate: 2.5000e-04\n",
            "Epoch 46/50\n",
            "\u001b[1m75/75\u001b[0m \u001b[32m━━━━━━━━━━━━━━━━━━━━\u001b[0m\u001b[37m\u001b[0m \u001b[1m10s\u001b[0m 130ms/step - accuracy: 0.8899 - loss: 0.4825 - val_accuracy: 0.7933 - val_loss: 0.6947 - learning_rate: 2.5000e-04\n",
            "Epoch 47/50\n",
            "\u001b[1m75/75\u001b[0m \u001b[32m━━━━━━━━━━━━━━━━━━━━\u001b[0m\u001b[37m\u001b[0m \u001b[1m10s\u001b[0m 131ms/step - accuracy: 0.8900 - loss: 0.4793 - val_accuracy: 0.7950 - val_loss: 0.6870 - learning_rate: 2.5000e-04\n",
            "Epoch 48/50\n",
            "\u001b[1m75/75\u001b[0m \u001b[32m━━━━━━━━━━━━━━━━━━━━\u001b[0m\u001b[37m\u001b[0m \u001b[1m10s\u001b[0m 130ms/step - accuracy: 0.8902 - loss: 0.4761 - val_accuracy: 0.8017 - val_loss: 0.6818 - learning_rate: 2.5000e-04\n",
            "Epoch 49/50\n",
            "\u001b[1m75/75\u001b[0m \u001b[32m━━━━━━━━━━━━━━━━━━━━\u001b[0m\u001b[37m\u001b[0m \u001b[1m10s\u001b[0m 130ms/step - accuracy: 0.8911 - loss: 0.4731 - val_accuracy: 0.7983 - val_loss: 0.6786 - learning_rate: 2.5000e-04\n",
            "Epoch 50/50\n",
            "\u001b[1m75/75\u001b[0m \u001b[32m━━━━━━━━━━━━━━━━━━━━\u001b[0m\u001b[37m\u001b[0m \u001b[1m10s\u001b[0m 130ms/step - accuracy: 0.8934 - loss: 0.4700 - val_accuracy: 0.8017 - val_loss: 0.6748 - learning_rate: 2.5000e-04\n"
          ]
        }
      ]
    },
    {
      "cell_type": "markdown",
      "source": [
        "This cell calls the `calculate_measures` function with `norm=1` (indicating normalized data) to evaluate the model's performance on the *normalized* test dataset. The returned evaluation metrics are stored in corresponding variables, allowing for comparison with the results obtained using unnormalized data."
      ],
      "metadata": {
        "id": "nlCvW7M9-2GA"
      }
    },
    {
      "cell_type": "code",
      "source": [
        "norm_data_test_y_pred, norm_data_test_y_true, norm_data_test_accuracy, norm_data_test_loss, norm_data_test_f1, norm_data_test_precision, norm_data_test_recall, norm_data_test_cm = caluclate_measures(1)\n",
        "class_labels = np.unique(unnorm_data_test_y_pred)\n",
        "class_labels = [list_of_musics[i] for i in np.unique(norm_data_test_y_pred)]"
      ],
      "metadata": {
        "id": "m_c8h8vbM7Xs",
        "colab": {
          "base_uri": "https://localhost:8080/"
        },
        "outputId": "4d26bdce-8b09-450c-d8a6-9722c940e3b1"
      },
      "execution_count": 41,
      "outputs": [
        {
          "output_type": "stream",
          "name": "stdout",
          "text": [
            "\u001b[1m1/1\u001b[0m \u001b[32m━━━━━━━━━━━━━━━━━━━━\u001b[0m\u001b[37m\u001b[0m \u001b[1m0s\u001b[0m 353ms/step\n",
            "\u001b[1m1/1\u001b[0m \u001b[32m━━━━━━━━━━━━━━━━━━━━\u001b[0m\u001b[37m\u001b[0m \u001b[1m0s\u001b[0m 332ms/step\n",
            "\u001b[1m1/1\u001b[0m \u001b[32m━━━━━━━━━━━━━━━━━━━━\u001b[0m\u001b[37m\u001b[0m \u001b[1m0s\u001b[0m 250ms/step\n",
            "\u001b[1m1/1\u001b[0m \u001b[32m━━━━━━━━━━━━━━━━━━━━\u001b[0m\u001b[37m\u001b[0m \u001b[1m0s\u001b[0m 57ms/step\n",
            "\u001b[1m1/1\u001b[0m \u001b[32m━━━━━━━━━━━━━━━━━━━━\u001b[0m\u001b[37m\u001b[0m \u001b[1m0s\u001b[0m 65ms/step\n",
            "\u001b[1m1/1\u001b[0m \u001b[32m━━━━━━━━━━━━━━━━━━━━\u001b[0m\u001b[37m\u001b[0m \u001b[1m0s\u001b[0m 241ms/step\n",
            "\u001b[1m1/1\u001b[0m \u001b[32m━━━━━━━━━━━━━━━━━━━━\u001b[0m\u001b[37m\u001b[0m \u001b[1m0s\u001b[0m 273ms/step\n",
            "\u001b[1m1/1\u001b[0m \u001b[32m━━━━━━━━━━━━━━━━━━━━\u001b[0m\u001b[37m\u001b[0m \u001b[1m0s\u001b[0m 70ms/step\n",
            "\u001b[1m1/1\u001b[0m \u001b[32m━━━━━━━━━━━━━━━━━━━━\u001b[0m\u001b[37m\u001b[0m \u001b[1m0s\u001b[0m 259ms/step\n",
            "\u001b[1m1/1\u001b[0m \u001b[32m━━━━━━━━━━━━━━━━━━━━\u001b[0m\u001b[37m\u001b[0m \u001b[1m0s\u001b[0m 71ms/step\n",
            "\u001b[1m1/1\u001b[0m \u001b[32m━━━━━━━━━━━━━━━━━━━━\u001b[0m\u001b[37m\u001b[0m \u001b[1m0s\u001b[0m 69ms/step\n",
            "\u001b[1m1/1\u001b[0m \u001b[32m━━━━━━━━━━━━━━━━━━━━\u001b[0m\u001b[37m\u001b[0m \u001b[1m0s\u001b[0m 72ms/step\n",
            "\u001b[1m1/1\u001b[0m \u001b[32m━━━━━━━━━━━━━━━━━━━━\u001b[0m\u001b[37m\u001b[0m \u001b[1m0s\u001b[0m 246ms/step\n",
            "\u001b[1m1/1\u001b[0m \u001b[32m━━━━━━━━━━━━━━━━━━━━\u001b[0m\u001b[37m\u001b[0m \u001b[1m0s\u001b[0m 92ms/step\n",
            "\u001b[1m1/1\u001b[0m \u001b[32m━━━━━━━━━━━━━━━━━━━━\u001b[0m\u001b[37m\u001b[0m \u001b[1m0s\u001b[0m 72ms/step\n",
            "\u001b[1m1/1\u001b[0m \u001b[32m━━━━━━━━━━━━━━━━━━━━\u001b[0m\u001b[37m\u001b[0m \u001b[1m0s\u001b[0m 71ms/step\n",
            "\u001b[1m1/1\u001b[0m \u001b[32m━━━━━━━━━━━━━━━━━━━━\u001b[0m\u001b[37m\u001b[0m \u001b[1m0s\u001b[0m 77ms/step\n",
            "\u001b[1m1/1\u001b[0m \u001b[32m━━━━━━━━━━━━━━━━━━━━\u001b[0m\u001b[37m\u001b[0m \u001b[1m0s\u001b[0m 81ms/step\n",
            "\u001b[1m1/1\u001b[0m \u001b[32m━━━━━━━━━━━━━━━━━━━━\u001b[0m\u001b[37m\u001b[0m \u001b[1m0s\u001b[0m 348ms/step\n"
          ]
        }
      ]
    },
    {
      "cell_type": "code",
      "source": [
        "print(f\"Test Loss: {norm_data_test_loss}\")\n",
        "print(f\"Test Accuracy: {norm_data_test_accuracy}\")\n",
        "print(f\"F1-score: {norm_data_test_f1}\")\n",
        "print(f\"Precision: {norm_data_test_precision}\")\n",
        "print(f\"Recall: {norm_data_test_recall}\")\n",
        "print(\"Confusion Matrix:\")\n",
        "print(norm_data_test_cm)"
      ],
      "metadata": {
        "id": "C2H0Srzjng6p",
        "colab": {
          "base_uri": "https://localhost:8080/"
        },
        "outputId": "92ce6b20-a685-4a32-97b9-abf3e9b87fa1"
      },
      "execution_count": 42,
      "outputs": [
        {
          "output_type": "stream",
          "name": "stdout",
          "text": [
            "Test Loss: 0.6748074293136597\n",
            "Test Accuracy: 0.8016666769981384\n",
            "F1-score: 0.7978004549606774\n",
            "Precision: 0.8270679704570814\n",
            "Recall: 0.7965534573333357\n",
            "Confusion Matrix:\n",
            "[[30  0  4  2  1  0 17  2  0  4]\n",
            " [ 2 45  9  1  0  0  0  3  0  1]\n",
            " [ 0  0 64  2  0  0  0  0  0  1]\n",
            " [ 0  0  4 46  0  2  0  0  0  8]\n",
            " [ 1  0  0  3 40  2  0  2  0  8]\n",
            " [ 3  3  2  0  0 49  0  0  1  4]\n",
            " [ 0  0  1  0  1  0 34  0  2 14]\n",
            " [ 2  0  0  0  0  0  0 64  0  0]\n",
            " [ 0  0  0  0  0  0  0  0 51  6]\n",
            " [ 0  0  0  0  0  0  0  0  1 58]]\n"
          ]
        }
      ]
    },
    {
      "cell_type": "code",
      "source": [
        "plt.figure(figsize=(10, 8))\n",
        "sns.heatmap(norm_data_test_cm, annot=True, fmt='d', cmap='Blues',\n",
        "            xticklabels=class_labels,  # Label columns with true labels\n",
        "            yticklabels=class_labels)  # Label rows with true labels\n",
        "plt.xlabel('Predicted Label')\n",
        "plt.ylabel('True Label')\n",
        "plt.title('Confusion Matrix')\n",
        "plt.show()"
      ],
      "metadata": {
        "id": "6d4jGsD1AAOD",
        "colab": {
          "base_uri": "https://localhost:8080/",
          "height": 718
        },
        "outputId": "2e6c8a1a-1765-452b-926a-eeac603063d9"
      },
      "execution_count": 43,
      "outputs": [
        {
          "output_type": "display_data",
          "data": {
            "text/plain": [
              "<Figure size 1000x800 with 2 Axes>"
            ],
            "image/png": "[encoded data removed]"
          },
          "metadata": {}
        }
      ]
    }
  ]
}